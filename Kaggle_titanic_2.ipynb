{
 "cells": [
  {
   "cell_type": "code",
   "execution_count": 1,
   "id": "limited-values",
   "metadata": {},
   "outputs": [],
   "source": [
    "import pandas as pd\n",
    "from sklearn import preprocessing\n",
    "from sklearn.neighbors import KNeighborsClassifier\n",
    "from sklearn.model_selection import train_test_split\n",
    "from sklearn.metrics import accuracy_score\n",
    "from numpy import reshape\n",
    "import pandas"
   ]
  },
  {
   "cell_type": "code",
   "execution_count": 2,
   "id": "surprising-emergency",
   "metadata": {
    "scrolled": false
   },
   "outputs": [],
   "source": [
    "data = pd.read_csv(\"train.csv\")\n",
    "test = pd.read_csv(\"test.csv\")\n",
    "test_ids = test[\"PassengerId\"]"
   ]
  },
  {
   "cell_type": "code",
   "execution_count": 3,
   "id": "understood-truth",
   "metadata": {},
   "outputs": [],
   "source": [
    "def clean(data):\n",
    "    data = data.drop([\"Ticket\", \"Cabin\", \"PassengerId\"], axis=1)\n",
    "    cols = [\"SibSp\", \"Parch\", \"Age\", \"Fare\"]\n",
    "    \n",
    "    for col in cols:\n",
    "        data[col].fillna(data[col].median(), inplace=True)\n",
    "        \n",
    "    data.Embarked.fillna(\"U\", inplace=True)\n",
    "    \n",
    "    def clean_name(value):\n",
    "        if (\"Mr.\" in value): value = \"mr\"\n",
    "        if (\"Miss.\" in value): value = \"miss\"\n",
    "        if (\"Ms.\" in value): value = \"ms\"\n",
    "        if (\"Mrs.\" in value): value = \"mrs\"\n",
    "        if (\"Don.\" in value) or (\"Dona.\" in value): value = \"Don/Dona\"\n",
    "        if (\"Master.\" in value): value = \"master\"\n",
    "        if (\"Col.\" in value): value = \"col\"\n",
    "        if (\"Rev.\" in value): value = \"rev\"\n",
    "        if (\"Dr.\" in value): value = \"Dr\"\n",
    "        \n",
    "        return value\n",
    "    \n",
    "    data[\"Name\"] = [clean_name(i) for i in data[\"Name\"]]    \n",
    "    return data\n",
    "\n",
    "\n",
    "data = clean(data)\n",
    "test = clean(test)"
   ]
  },
  {
   "cell_type": "code",
   "execution_count": 4,
   "id": "organic-beauty",
   "metadata": {
    "scrolled": true
   },
   "outputs": [],
   "source": [
    "le = preprocessing.LabelEncoder()\n",
    "\n",
    "cols_a = [\"Sex\", \"Embarked\", \"Name\"]\n",
    "\n",
    "for col in cols_a:\n",
    "    data[col] = le.fit_transform(data[col])\n",
    "    test[col] = le.fit_transform(test[col])\n",
    "\n",
    "def scale(data):\n",
    "    scaler = preprocessing.MinMaxScaler()\n",
    "    scaler.fit(data)\n",
    "    data = scaler.transform(data)\n",
    "    data = pandas.core.api.DataFrame(data, columns=[\"Survived\", \"Pclass\", \"Name\", \"Sex\", \"Age\", \"SibSp\", \"Parch\", \"Fare\", \"Embarked\"])    \n",
    "    return data\n",
    "    \n",
    "data = scale(data)  \n",
    "\n",
    "y = data[\"Survived\"]\n",
    "X = data.drop(\"Survived\", axis=1)\n",
    "X_train, X_val, y_train, y_val = train_test_split(X, y, test_size=0.2, random_state=42)"
   ]
  },
  {
   "cell_type": "code",
   "execution_count": 5,
   "id": "italian-metabolism",
   "metadata": {},
   "outputs": [
    {
     "data": {
      "text/plain": [
       "0.8156424581005587"
      ]
     },
     "execution_count": 5,
     "metadata": {},
     "output_type": "execute_result"
    }
   ],
   "source": [
    "\n",
    "classifier  = KNeighborsClassifier(n_neighbors = 9)\n",
    "classifier.fit(X_train, y_train)\n",
    "\n",
    "score_predict = classifier.predict(X_val)\n",
    "accuracy_score(y_val, score_predict)"
   ]
  },
  {
   "cell_type": "code",
   "execution_count": 6,
   "id": "ultimate-fifty",
   "metadata": {},
   "outputs": [],
   "source": [
    "final_predict = classifier.predict(test)\n",
    "final_predict = [int(i) for i in final_predict]\n",
    "\n",
    "\n",
    "df = pd.DataFrame({\"PassengerId\":test_ids.values,\n",
    "                  \"Survived\": final_predict})\n",
    "df.to_csv(\"Submission3.5.csv\", index=False)"
   ]
  },
  {
   "cell_type": "code",
   "execution_count": 7,
   "id": "helpful-qatar",
   "metadata": {},
   "outputs": [],
   "source": [
    "# 0.7988826815642458 w \"names\"\n",
    "# 0.7821229050279329 no \"name\"\n",
    "# best k = 9 (score = 0.81)"
   ]
  }
 ],
 "metadata": {
  "kernelspec": {
   "display_name": "Python 3",
   "language": "python",
   "name": "python3"
  },
  "language_info": {
   "codemirror_mode": {
    "name": "ipython",
    "version": 3
   },
   "file_extension": ".py",
   "mimetype": "text/x-python",
   "name": "python",
   "nbconvert_exporter": "python",
   "pygments_lexer": "ipython3",
   "version": "3.7.9"
  }
 },
 "nbformat": 4,
 "nbformat_minor": 5
}
