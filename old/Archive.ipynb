{
 "cells": [
  {
   "cell_type": "code",
   "execution_count": null,
   "id": "f8b1257f",
   "metadata": {},
   "outputs": [],
   "source": [
    "\n",
    "#  -----------------------------------------------------  #\n",
    "\n",
    "                        ###########\n",
    "                        # Archive #\n",
    "                        ###########\n",
    "\n",
    "#  -----------------------------------------------------  #\n",
    "\n",
    "\n",
    "# from sklearn.linear_model import LogisticRegression \n",
    "\n",
    "# # Pipeline to choose best among many hyperparameters\n",
    "# pipeline = Pipeline([('clf', LogisticRegression())])\n",
    "# parameters = {\n",
    "#         'clf__C': (0.01, 0.001,0.1,1.0,5.0, 10),\n",
    "#         'clf__max_iter' : (100, 1000, 10000),\n",
    "#         'clf__class_weight' : ('balanced', None),\n",
    "#         'clf__penalty' : ('l1', 'l2'),\n",
    "#     }\n",
    "# grid_search = GridSearchCV(pipeline, parameters, n_jobs= -1, verbose = 1, scoring = 'accuracy');\n",
    "# grid_search.fit(X_train, y_train);\n",
    "\n",
    "# print(grid_search.score(X_test, y_test)*100)\n",
    "\n",
    "\n",
    "#  -----------------------------------------------------  #\n",
    "\n",
    "    \n",
    "# from sklearn.model_selection import GridSearchCV\n",
    "# from sklearn.ensemble import GradientBoostingClassifier\n",
    "# model = GradientBoostingClassifier()\n",
    "# param_grid = {'loss' : [\"deviance\"],\n",
    "#               'n_estimators' : [100,200,300,400],\n",
    "#               'learning_rate': [0.1, 0.05, 0.01,0.001],\n",
    "#               'max_depth': [4, 8],\n",
    "#               'min_samples_leaf': [100,150],\n",
    "#               'max_features': [0.3, 0.2,0.1] \n",
    "#               }\n",
    "\n",
    "# modelf = GridSearchCV(model,param_grid = param_grid, cv=kfold, scoring=\"accuracy\", n_jobs= 4, verbose = 1)\n",
    "\n",
    "# modelf.fit(train_X,train_Y)"
   ]
  }
 ],
 "metadata": {
  "kernelspec": {
   "display_name": "Python 3",
   "language": "python",
   "name": "python3"
  },
  "language_info": {
   "codemirror_mode": {
    "name": "ipython",
    "version": 3
   },
   "file_extension": ".py",
   "mimetype": "text/x-python",
   "name": "python",
   "nbconvert_exporter": "python",
   "pygments_lexer": "ipython3",
   "version": "3.8.8"
  }
 },
 "nbformat": 4,
 "nbformat_minor": 5
}
