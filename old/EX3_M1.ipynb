{
 "cells": [
  {
   "cell_type": "code",
   "execution_count": 1,
   "id": "external-preserve",
   "metadata": {},
   "outputs": [],
   "source": [
    "import numpy as np\n",
    "import pandas as pd\n",
    "from sklearn.feature_extraction import DictVectorizer\n",
    "from sklearn.preprocessing import StandardScaler\n",
    "from sklearn.linear_model import LogisticRegression, SGDClassifier\n",
    "from sklearn.pipeline import Pipeline\n",
    "from sklearn.model_selection import GridSearchCV"
   ]
  },
  {
   "cell_type": "code",
   "execution_count": 2,
   "id": "reliable-outside",
   "metadata": {},
   "outputs": [
    {
     "name": "stdout",
     "output_type": "stream",
     "text": [
      "Fitting 5 folds for each of 72 candidates, totalling 360 fits\n",
      "Accuracy on test set is 94.25837320574163%\n"
     ]
    },
    {
     "name": "stderr",
     "output_type": "stream",
     "text": [
      "/Users/dima/PycharmProjects/StockBot/ML_learning1/lib/python3.7/site-packages/sklearn/model_selection/_search.py:921: UserWarning: One or more of the test scores are non-finite: [       nan 0.78116879        nan 0.78116879        nan 0.78116879\n",
      "        nan 0.7878727         nan 0.7878727         nan 0.7878727\n",
      "        nan 0.77218003        nan 0.77218003        nan 0.77218003\n",
      "        nan 0.71047015        nan 0.71047015        nan 0.71047015\n",
      "        nan 0.77666185        nan 0.77666185        nan 0.77666185\n",
      "        nan 0.79013245        nan 0.79013245        nan 0.79013245\n",
      "        nan 0.77441466        nan 0.77441466        nan 0.77441466\n",
      "        nan 0.78565062        nan 0.78565062        nan 0.78565062\n",
      "        nan 0.77441466        nan 0.77441466        nan 0.77441466\n",
      "        nan 0.78565062        nan 0.78565062        nan 0.78565062\n",
      "        nan 0.77441466        nan 0.77441466        nan 0.77441466\n",
      "        nan 0.78565062        nan 0.78565062        nan 0.78565062]\n",
      "  category=UserWarning\n"
     ]
    },
    {
     "ename": "AttributeError",
     "evalue": "'GridSearchCV' object has no attribute 'head'",
     "output_type": "error",
     "traceback": [
      "\u001b[0;31m---------------------------------------------------------------------------\u001b[0m",
      "\u001b[0;31mAttributeError\u001b[0m                            Traceback (most recent call last)",
      "\u001b[0;32m<ipython-input-2-94027fcb4fd3>\u001b[0m in \u001b[0;36m<module>\u001b[0;34m\u001b[0m\n\u001b[1;32m     58\u001b[0m \u001b[0;31m# Print Accuracy on Test set\u001b[0m\u001b[0;34m\u001b[0m\u001b[0;34m\u001b[0m\u001b[0;34m\u001b[0m\u001b[0m\n\u001b[1;32m     59\u001b[0m \u001b[0mprint\u001b[0m\u001b[0;34m(\u001b[0m\u001b[0;34m\"Accuracy on test set is\"\u001b[0m\u001b[0;34m,\u001b[0m \u001b[0mstr\u001b[0m\u001b[0;34m(\u001b[0m\u001b[0mgrid_search\u001b[0m\u001b[0;34m.\u001b[0m\u001b[0mscore\u001b[0m\u001b[0;34m(\u001b[0m\u001b[0mX_test\u001b[0m\u001b[0;34m,\u001b[0m \u001b[0my_test\u001b[0m\u001b[0;34m)\u001b[0m\u001b[0;34m*\u001b[0m\u001b[0;36m100\u001b[0m\u001b[0;34m)\u001b[0m \u001b[0;34m+\u001b[0m \u001b[0;34m'%'\u001b[0m\u001b[0;34m)\u001b[0m\u001b[0;34m\u001b[0m\u001b[0;34m\u001b[0m\u001b[0m\n\u001b[0;32m---> 60\u001b[0;31m \u001b[0mgrid_search\u001b[0m\u001b[0;34m.\u001b[0m\u001b[0mhead\u001b[0m\u001b[0;34m(\u001b[0m\u001b[0;36m5\u001b[0m\u001b[0;34m)\u001b[0m\u001b[0;34m\u001b[0m\u001b[0;34m\u001b[0m\u001b[0m\n\u001b[0m",
      "\u001b[0;31mAttributeError\u001b[0m: 'GridSearchCV' object has no attribute 'head'"
     ]
    }
   ],
   "source": [
    "\n",
    "# Load Training and Test Data\n",
    "train_raw_data = pd.read_csv('train.csv')\n",
    "test_raw_data = pd.read_csv('test.csv')\n",
    "y_raw_test = pd.read_csv('gender_submission.csv')\n",
    "\n",
    "# Function for preprocessing\n",
    "def preprocessing(data):\n",
    "    data = data.drop(['PassengerId', 'Name', 'Ticket', 'Cabin'], axis=1)\n",
    "    \n",
    "#     data.loc[data['Age'].isnull(), ['Age']] = data['Age'].median()\n",
    "#     data.loc[data['Fare'].isnull(), ['Fare']] = data['Age'].mean()\n",
    "\n",
    "    data['Age'].fillna(data['Age'].median(), inplace = True)\n",
    "    data['Fare'].fillna(data['Fare'].median(), inplace = True)\n",
    "\n",
    "    data = pd.get_dummies(data) \n",
    "    \n",
    "    try:\n",
    "        data.pop('Survived')\n",
    "    except:\n",
    "        pass\n",
    "    \n",
    "    X_columns = data.columns\n",
    "    \n",
    "    normalize = StandardScaler()\n",
    "    X = normalize.fit_transform(data)\n",
    "    X = pd.DataFrame(X, columns = X_columns)\n",
    "    return X \n",
    "\n",
    "# Train Model\n",
    "def train(train_raw_data):\n",
    "    X_train = preprocessing(train_raw_data)\n",
    "    y_train = train_raw_data[\"Survived\"]\n",
    "    \n",
    "    model = LogisticRegression()\n",
    "    model.fit(X_train, y_train)\n",
    "    return model\n",
    "\n",
    "# Initilaize Training and Test Data\n",
    "X_train = preprocessing(train_raw_data)\n",
    "y_train = train_raw_data['Survived']\n",
    "\n",
    "X_test = preprocessing(test_raw_data)\n",
    "y_test = pd.merge(test_raw_data, y_raw_test, on = 'PassengerId')['Survived']\n",
    "\n",
    "\n",
    "# Pipeline to choose best among many hyperparameters\n",
    "pipeline = Pipeline([('clf', LogisticRegression())])\n",
    "parameters = {\n",
    "        'clf__C': (0.01, 0.001,0.1,1.0,5.0, 10),\n",
    "        'clf__max_iter' : (100, 1000, 10000),\n",
    "        'clf__class_weight' : ('balanced', None),\n",
    "        'clf__penalty' : ('l1', 'l2'),\n",
    "    }\n",
    "grid_search = GridSearchCV(pipeline, parameters, n_jobs= -1, verbose = 1, scoring = 'accuracy');\n",
    "grid_search.fit(X_train, y_train);\n",
    "\n",
    "# Print Accuracy on Test set\n",
    "print(\"Accuracy on test set is\", str(grid_search.score(X_test, y_test)*100) + '%')\n",
    "grid_search.head(5)"
   ]
  }
 ],
 "metadata": {
  "kernelspec": {
   "display_name": "Python 3",
   "language": "python",
   "name": "python3"
  },
  "language_info": {
   "codemirror_mode": {
    "name": "ipython",
    "version": 3
   },
   "file_extension": ".py",
   "mimetype": "text/x-python",
   "name": "python",
   "nbconvert_exporter": "python",
   "pygments_lexer": "ipython3",
   "version": "3.8.8"
  }
 },
 "nbformat": 4,
 "nbformat_minor": 5
}
