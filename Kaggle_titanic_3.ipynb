{
 "cells": [
  {
   "cell_type": "code",
   "execution_count": 1,
   "id": "treated-newcastle",
   "metadata": {},
   "outputs": [],
   "source": [
    "# Pclass, Name, Sex, Age, SibSp, Parch, Fare, Cabin, Embarked\n",
    "\n",
    "import pandas as pd\n",
    "import pandas\n",
    "from sklearn import preprocessing\n",
    "from sklearn.model_selection import train_test_split\n",
    "from sklearn.model_selection import cross_val_score\n",
    "from sklearn.metrics import accuracy_score\n",
    "from sklearn.model_selection import KFold"
   ]
  },
  {
   "cell_type": "code",
   "execution_count": 2,
   "id": "sustainable-privilege",
   "metadata": {},
   "outputs": [],
   "source": [
    "data = pd.read_csv(\"train.csv\")\n",
    "test = pd.read_csv(\"test.csv\")\n",
    "\n",
    "data_copy = data\n",
    "test_copy = test\n",
    "\n",
    "test_ids = test[\"PassengerId\"]"
   ]
  },
  {
   "cell_type": "code",
   "execution_count": 3,
   "id": "thirty-lebanon",
   "metadata": {
    "scrolled": true
   },
   "outputs": [],
   "source": [
    "def clean(data):  \n",
    "    s_count_in_embarked = 0\n",
    "    c_count_in_embarked = 0\n",
    "    nan_count = 0\n",
    "    cols = [\"SibSp\", \"Parch\", \"Age\", \"Fare\"]\n",
    "    \n",
    "    data = data.drop([\"Ticket\", \"PassengerId\"], axis=1)\n",
    "    data[\"Embarked\"].fillna(\"S\", inplace=True)\n",
    "\n",
    "    def clean_name(value):\n",
    "        if (\"Mr.\" in value): value = \"0\"\n",
    "        if (\"Miss.\" in value): value = str(1/16)\n",
    "        if (\"Ms.\" in value): value = str(2/16)\n",
    "        if (\"Mrs.\" in value): value = str(3/16)\n",
    "        if (\"Don.\" in value) or (\"Dona.\" in value): value = str(4/16)\n",
    "        if (\"Master.\" in value): value = str(5/16)\n",
    "        if (\"Col.\" in value): value = str(6/16)\n",
    "        if (\"Rev.\" in value): value = str(7/16)\n",
    "        if (\"Dr.\" in value): value = str(8/16)\n",
    "        if (\"Mme.\" in value): value = str(9/16)\n",
    "        if (\"Major.\" in value): value = str(10/16)\n",
    "        if (\"Lady.\" in value): value = str(11/16)\n",
    "        if (\"Sir.\" in value): value = str(12/16)\n",
    "        if (\"Mlle.\" in value): value = str(13/16)\n",
    "        if (\"Capt.\" in value): value = str(14/16)\n",
    "        if (\"Countess.\" in value): value = str(15/16)\n",
    "        if (\"Jonkheer.\" in value): value = \"1\"\n",
    "\n",
    "        return value\n",
    "    \n",
    "    def clean_cabin(value):\n",
    "        char_exists = False\n",
    "        alphabet = \"abcdefghijklmnopqrstuvwxyz\"\n",
    "        alphabet = alphabet.upper()\n",
    "        value = str(value)\n",
    "        \n",
    "        for i in alphabet:\n",
    "            if i in value:\n",
    "                value = \"1\"\n",
    "                char_exists = True\n",
    "        if char_exists == False:\n",
    "            value = \"0\"\n",
    "        \n",
    "        return value\n",
    "        \n",
    "    \n",
    "    for col in cols:\n",
    "        data[col].fillna(data[col].median(), inplace=True)\n",
    "        \n",
    "    data[\"Name\"] = [clean_name(i) for i in data[\"Name\"]]\n",
    "    data[\"Cabin\"] = [clean_cabin(i) for i in data[\"Cabin\"]]\n",
    "    \n",
    "    return data\n",
    "\n",
    "def make_into_num(data):\n",
    "    le = preprocessing.LabelEncoder()\n",
    "    cols_a = [\"Sex\", \"Embarked\"]\n",
    "\n",
    "    for col in cols_a:\n",
    "        data[col] = le.fit_transform(data[col])\n",
    "    return data\n",
    "        \n",
    "def scale(data):\n",
    "    scaler = preprocessing.MinMaxScaler()\n",
    "    scaler.fit(data)\n",
    "    data = scaler.transform(data)\n",
    "    data = pandas.core.api.DataFrame(data, columns=[\"Survived\", \"Pclass\", \"Name-Type\", \"Sex\", \"Age\", \"SibSp\", \"Parch\", \"Fare\",\"Cabin\", \"Embarked\"])    \n",
    "    return data\n",
    "\n",
    "def split(data):\n",
    "    y = data[\"Survived\"]\n",
    "    X = data.drop(\"Survived\", axis=1)\n",
    "    X_train, X_val, y_train, y_val = train_test_split(X, y, test_size=0.2, random_state=42)\n",
    "    return X_train, X_val, y_train, y_val\n",
    "\n"
   ]
  },
  {
   "cell_type": "code",
   "execution_count": 4,
   "id": "logical-circumstances",
   "metadata": {},
   "outputs": [],
   "source": [
    "data = clean(data)\n",
    "data = make_into_num(data)\n",
    "data = scale(data)\n",
    "\n",
    "# X_train, X_test, y_train, y_test = split(data)"
   ]
  },
  {
   "cell_type": "code",
   "execution_count": 5,
   "id": "logical-indication",
   "metadata": {},
   "outputs": [
    {
     "ename": "NameError",
     "evalue": "name 'drop_column' is not defined",
     "output_type": "error",
     "traceback": [
      "\u001b[0;31m---------------------------------------------------------------------------\u001b[0m",
      "\u001b[0;31mNameError\u001b[0m                                 Traceback (most recent call last)",
      "\u001b[0;32m<ipython-input-5-7c290436505d>\u001b[0m in \u001b[0;36m<module>\u001b[0;34m\u001b[0m\n\u001b[0;32m----> 1\u001b[0;31m \u001b[0mdata_copy\u001b[0m\u001b[0;34m.\u001b[0m\u001b[0mdrop\u001b[0m\u001b[0;34m(\u001b[0m\u001b[0mdrop_column\u001b[0m\u001b[0;34m,\u001b[0m \u001b[0maxis\u001b[0m\u001b[0;34m=\u001b[0m\u001b[0;36m1\u001b[0m\u001b[0;34m,\u001b[0m \u001b[0minplace\u001b[0m \u001b[0;34m=\u001b[0m \u001b[0;32mTrue\u001b[0m\u001b[0;34m)\u001b[0m\u001b[0;34m\u001b[0m\u001b[0;34m\u001b[0m\u001b[0m\n\u001b[0m\u001b[1;32m      2\u001b[0m \u001b[0mtest_copy\u001b[0m\u001b[0;34m.\u001b[0m\u001b[0mdrop\u001b[0m\u001b[0;34m(\u001b[0m\u001b[0mdrop_column\u001b[0m\u001b[0;34m,\u001b[0m \u001b[0maxis\u001b[0m\u001b[0;34m=\u001b[0m\u001b[0;36m1\u001b[0m\u001b[0;34m,\u001b[0m \u001b[0minplace\u001b[0m \u001b[0;34m=\u001b[0m \u001b[0;32mTrue\u001b[0m\u001b[0;34m)\u001b[0m\u001b[0;34m\u001b[0m\u001b[0;34m\u001b[0m\u001b[0m\n\u001b[1;32m      3\u001b[0m \u001b[0;34m\u001b[0m\u001b[0m\n\u001b[1;32m      4\u001b[0m \u001b[0mall_data\u001b[0m \u001b[0;34m=\u001b[0m \u001b[0;34m[\u001b[0m\u001b[0mtrain_copy\u001b[0m\u001b[0;34m,\u001b[0m \u001b[0mtest_copy\u001b[0m\u001b[0;34m]\u001b[0m\u001b[0;34m\u001b[0m\u001b[0;34m\u001b[0m\u001b[0m\n\u001b[1;32m      5\u001b[0m \u001b[0;34m\u001b[0m\u001b[0m\n",
      "\u001b[0;31mNameError\u001b[0m: name 'drop_column' is not defined"
     ]
    }
   ],
   "source": [
    "\n",
    "data_copy.drop(drop_column, axis=1, inplace = True)\n",
    "test_copy.drop(drop_column, axis=1, inplace = True)\n",
    "\n",
    "all_data = [train_copy, test_copy]\n",
    "\n",
    "all_features = traindf.drop(\"Survived\",axis=1)\n",
    "Targeted_feature = traindf[\"Survived\"]\n",
    "X_train, X_test, y_train, y_test = train_test_split(all_features,Targeted_feature,test_size=0.3,random_state=42)\n",
    "X_train.shape,X_test.shape,y_train.shape,y_test.shape"
   ]
  },
  {
   "cell_type": "code",
   "execution_count": null,
   "id": "excellent-holly",
   "metadata": {},
   "outputs": [],
   "source": [
    "from sklearn.linear_model import LogisticRegression \n",
    "lgst_reg = LogisticRegression(random_state=0, max_iter=1000).fit(X_train, y_train)\n",
    "lgst_reg_predicted = lgst_reg.predict(X_test)\n",
    "\n",
    "kfold = KFold(n_splits=10, shuffle = True, random_state=22) # k=10, split the data into 10 equal parts\n",
    "# result_lr = cross_val_score(lgst_reg, all_features, Targeted_feature, cv=10, scoring='accuracy')\n",
    "y_pred = cross_val_predict(lgst_reg, all_features, Targeted_feature,cv=10)\n",
    "\n",
    "print('--------------The Accuracy of the model----------------------------')\n",
    "print('The accuracy of the Logistic Regression is', round(accuracy_score(lgst_reg_predicted, y_test)*100, 2))\n",
    "print('The cross validated score for Logistic REgression is:', round(result_lr.mean()*100, 2))\n",
    "plt.title('Confusion_matrix', y=1.05, size=15)\n",
    "\n",
    "print(\"my score\")\n",
    "lgst.score(X_test, y_test)"
   ]
  },
  {
   "cell_type": "code",
   "execution_count": null,
   "id": "hourly-cambridge",
   "metadata": {},
   "outputs": [],
   "source": [
    "#     def clean_name(value):\n",
    "#         if (\"Mr.\" in value): value = \"mr\"\n",
    "#         if (\"Miss.\" in value): value = \"miss\"\n",
    "#         if (\"Ms.\" in value): value = \"ms\"\n",
    "#         if (\"Mrs.\" in value): value = \"mrs\"\n",
    "#         if (\"Don.\" in value) or (\"Dona.\" in value): value = \"don/dona\"\n",
    "#         if (\"Master.\" in value): value = \"master\"\n",
    "#         if (\"Col.\" in value): value = \"col\"\n",
    "#         if (\"Rev.\" in value): value = \"rev\"\n",
    "#         if (\"Dr.\" in value): value = \"Dr\"\n",
    "#         if (\"Mme.\" in value): value = \"mme\"\n",
    "#         return value"
   ]
  },
  {
   "cell_type": "code",
   "execution_count": null,
   "id": "institutional-management",
   "metadata": {},
   "outputs": [],
   "source": [
    "# classifier  = KNeighborsClassifier(n_neighbors = 9)\n",
    "# classifier.fit(X_train, y_train)\n",
    "\n",
    "# score_predict = classifier.predict(X_val)\n",
    "# accuracy_score(y_val, score_predict)\n",
    "\n",
    "# final_predict = classifier.predict(test)\n",
    "# final_predict = [int(i) for i in final_predict]\n",
    "\n",
    "\n",
    "# df = pd.DataFrame({\"PassengerId\":test_ids.values,\n",
    "#                   \"Survived\": final_predict})\n",
    "# df.to_csv(\"Submission3.5.csv\", index=False)"
   ]
  }
 ],
 "metadata": {
  "kernelspec": {
   "display_name": "Python 3",
   "language": "python",
   "name": "python3"
  },
  "language_info": {
   "codemirror_mode": {
    "name": "ipython",
    "version": 3
   },
   "file_extension": ".py",
   "mimetype": "text/x-python",
   "name": "python",
   "nbconvert_exporter": "python",
   "pygments_lexer": "ipython3",
   "version": "3.8.8"
  }
 },
 "nbformat": 4,
 "nbformat_minor": 5
}
