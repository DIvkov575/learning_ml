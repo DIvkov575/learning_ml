{
 "cells": [
  {
   "cell_type": "code",
   "execution_count": 1,
   "id": "basic-national",
   "metadata": {},
   "outputs": [],
   "source": [
    "import numpy as np \n",
    "import pandas as pd\n",
    "import matplotlib.pyplot as plt\n",
    "import seaborn as sns\n",
    "import warnings"
   ]
  },
  {
   "cell_type": "code",
   "execution_count": 2,
   "id": "fancy-touch",
   "metadata": {},
   "outputs": [],
   "source": [
    "train = pd.read_csv(\"train.csv\")\n",
    "test_df = pd.read_csv(\"test.csv\")"
   ]
  },
  {
   "cell_type": "code",
   "execution_count": 3,
   "id": "needed-rhythm",
   "metadata": {},
   "outputs": [
    {
     "ename": "NameError",
     "evalue": "name 'test' is not defined",
     "output_type": "error",
     "traceback": [
      "\u001b[0;31m---------------------------------------------------------------------------\u001b[0m",
      "\u001b[0;31mNameError\u001b[0m                                 Traceback (most recent call last)",
      "\u001b[0;32m<ipython-input-3-58f61db2be06>\u001b[0m in \u001b[0;36m<module>\u001b[0;34m\u001b[0m\n\u001b[1;32m      1\u001b[0m \u001b[0mtrain\u001b[0m\u001b[0;34m[\u001b[0m\u001b[0;34m'Embarked'\u001b[0m\u001b[0;34m]\u001b[0m\u001b[0;34m.\u001b[0m\u001b[0mfillna\u001b[0m\u001b[0;34m(\u001b[0m\u001b[0mtrain\u001b[0m\u001b[0;34m[\u001b[0m\u001b[0;34m'Embarked'\u001b[0m\u001b[0;34m]\u001b[0m\u001b[0;34m.\u001b[0m\u001b[0mmode\u001b[0m\u001b[0;34m(\u001b[0m\u001b[0;34m)\u001b[0m\u001b[0;34m[\u001b[0m\u001b[0;36m0\u001b[0m\u001b[0;34m]\u001b[0m\u001b[0;34m,\u001b[0m \u001b[0minplace\u001b[0m \u001b[0;34m=\u001b[0m \u001b[0;32mTrue\u001b[0m\u001b[0;34m)\u001b[0m\u001b[0;34m\u001b[0m\u001b[0;34m\u001b[0m\u001b[0m\n\u001b[0;32m----> 2\u001b[0;31m \u001b[0mtest\u001b[0m\u001b[0;34m[\u001b[0m\u001b[0;34m'Fare'\u001b[0m\u001b[0;34m]\u001b[0m\u001b[0;34m.\u001b[0m\u001b[0mfillna\u001b[0m\u001b[0;34m(\u001b[0m\u001b[0mtest\u001b[0m\u001b[0;34m[\u001b[0m\u001b[0;34m'Fare'\u001b[0m\u001b[0;34m]\u001b[0m\u001b[0;34m.\u001b[0m\u001b[0mmedian\u001b[0m\u001b[0;34m(\u001b[0m\u001b[0;34m)\u001b[0m\u001b[0;34m,\u001b[0m \u001b[0minplace\u001b[0m \u001b[0;34m=\u001b[0m \u001b[0;32mTrue\u001b[0m\u001b[0;34m)\u001b[0m\u001b[0;34m\u001b[0m\u001b[0;34m\u001b[0m\u001b[0m\n\u001b[0m\u001b[1;32m      3\u001b[0m \u001b[0;34m\u001b[0m\u001b[0m\n\u001b[1;32m      4\u001b[0m \u001b[0mtrain\u001b[0m\u001b[0;34m.\u001b[0m\u001b[0mdrop\u001b[0m\u001b[0;34m(\u001b[0m\u001b[0;34m[\u001b[0m\u001b[0;34m'Cabin'\u001b[0m\u001b[0;34m]\u001b[0m\u001b[0;34m,\u001b[0m \u001b[0maxis\u001b[0m\u001b[0;34m=\u001b[0m\u001b[0;36m1\u001b[0m\u001b[0;34m,\u001b[0m \u001b[0minplace\u001b[0m \u001b[0;34m=\u001b[0m \u001b[0;32mTrue\u001b[0m\u001b[0;34m)\u001b[0m\u001b[0;34m\u001b[0m\u001b[0;34m\u001b[0m\u001b[0m\n\u001b[1;32m      5\u001b[0m \u001b[0mtest\u001b[0m\u001b[0;34m.\u001b[0m\u001b[0mdrop\u001b[0m\u001b[0;34m(\u001b[0m\u001b[0;34m[\u001b[0m\u001b[0;34m'Cabin'\u001b[0m\u001b[0;34m]\u001b[0m\u001b[0;34m,\u001b[0m\u001b[0maxis\u001b[0m\u001b[0;34m=\u001b[0m\u001b[0;36m1\u001b[0m\u001b[0;34m,\u001b[0m\u001b[0minplace\u001b[0m\u001b[0;34m=\u001b[0m\u001b[0;32mTrue\u001b[0m\u001b[0;34m)\u001b[0m\u001b[0;34m\u001b[0m\u001b[0;34m\u001b[0m\u001b[0m\n",
      "\u001b[0;31mNameError\u001b[0m: name 'test' is not defined"
     ]
    }
   ],
   "source": [
    "train['Embarked'].fillna(train['Embarked'].mode()[0], inplace = True)\n",
    "test['Fare'].fillna(test['Fare'].median(), inplace = True)\n",
    "\n",
    "train.drop(['Cabin'], axis=1, inplace = True)\n",
    "test.drop(['Cabin'],axis=1,inplace=True)\n",
    "\n",
    "test['Age'].fillna(test['Age'].median(), inplace = True)\n",
    "train['Age'].fillna(train['Age'].median(), inplace = True)"
   ]
  },
  {
   "cell_type": "code",
   "execution_count": null,
   "id": "classical-harvest",
   "metadata": {},
   "outputs": [],
   "source": [
    "all_data = [train, test]\n",
    "\n",
    "for dataset in all_data:\n",
    "    dataset['FamilySize'] = dataset['SibSp'] + dataset['Parch'] + 1"
   ]
  },
  {
   "cell_type": "code",
   "execution_count": null,
   "id": "current-harmony",
   "metadata": {},
   "outputs": [],
   "source": [
    "def clean(data):  \n",
    "    s_count_in_embarked = 0\n",
    "    c_count_in_embarked = 0\n",
    "    nan_count = 0\n",
    "    cols = [\"SibSp\", \"Parch\", \"Age\", \"Fare\"]\n",
    "    \n",
    "    data = data.drop([\"Ticket\", \"PassengerId\"], axis=1)\n",
    "    data[\"Embarked\"].fillna(\"S\", inplace=True)\n",
    "    \n",
    "\n",
    "    def clean_name(value):\n",
    "        if (\"Mr.\" in value): value = \"0\"\n",
    "        if (\"Miss.\" in value): value = str(1/16)\n",
    "        if (\"Ms.\" in value): value = str(2/16)\n",
    "        if (\"Mrs.\" in value): value = str(3/16)\n",
    "        if (\"Don.\" in value) or (\"Dona.\" in value): value = str(4/16)\n",
    "        if (\"Master.\" in value): value = str(5/16)\n",
    "        if (\"Col.\" in value): value = str(6/16)\n",
    "        if (\"Rev.\" in value): value = str(7/16)\n",
    "        if (\"Dr.\" in value): value = str(8/16)\n",
    "        if (\"Mme.\" in value): value = str(9/16)\n",
    "        if (\"Major.\" in value): value = str(10/16)\n",
    "        if (\"Lady.\" in value): value = str(11/16)\n",
    "        if (\"Sir.\" in value): value = str(12/16)\n",
    "        if (\"Mlle.\" in value): value = str(13/16)\n",
    "        if (\"Capt.\" in value): value = str(14/16)\n",
    "        if (\"Countess.\" in value): value = str(15/16)\n",
    "        if (\"Jonkheer.\" in value): value = \"1\"\n",
    "\n",
    "        return value\n",
    "    \n",
    "    def clean_cabin(value):\n",
    "        char_exists = False\n",
    "        alphabet = \"abcdefghijklmnopqrstuvwxyz\"\n",
    "        alphabet = alphabet.upper()\n",
    "        value = str(value)\n",
    "        \n",
    "        for i in alphabet:\n",
    "            if i in value:\n",
    "                value = \"1\"\n",
    "                char_exists = True\n",
    "        if char_exists == False:\n",
    "            value = \"0\"\n",
    "        \n",
    "        return value\n",
    "        \n",
    "    \n",
    "    for col in cols:\n",
    "        data[col].fillna(data[col].median(), inplace=True)\n",
    "        \n",
    "    data[\"Name\"] = [clean_name(i) for i in data[\"Name\"]]\n",
    "    data[\"Cabin\"] = [clean_cabin(i) for i in data[\"Cabin\"]]\n",
    "    \n",
    "    return data\n",
    "\n",
    "def make_into_num(data):\n",
    "    le = preprocessing.LabelEncoder()\n",
    "    cols_a = [\"Sex\", \"Embarked\"]\n",
    "\n",
    "    for col in cols_a:\n",
    "        data[col] = le.fit_transform(data[col])\n",
    "    return data\n",
    "        \n",
    "def scale(data):\n",
    "    scaler = preprocessing.MinMaxScaler()\n",
    "    scaler.fit(data)\n",
    "    data = scaler.transform(data)\n",
    "    data = pandas.core.api.DataFrame(data, columns=[\"Survived\", \"Pclass\", \"Name-Type\", \"Sex\", \"Age\", \"SibSp\", \"Parch\", \"Fare\",\"Cabin\", \"Embarked\"])    \n",
    "    return data\n"
   ]
  }
 ],
 "metadata": {
  "kernelspec": {
   "display_name": "Python 3",
   "language": "python",
   "name": "python3"
  },
  "language_info": {
   "codemirror_mode": {
    "name": "ipython",
    "version": 3
   },
   "file_extension": ".py",
   "mimetype": "text/x-python",
   "name": "python",
   "nbconvert_exporter": "python",
   "pygments_lexer": "ipython3",
   "version": "3.7.9"
  }
 },
 "nbformat": 4,
 "nbformat_minor": 5
}
