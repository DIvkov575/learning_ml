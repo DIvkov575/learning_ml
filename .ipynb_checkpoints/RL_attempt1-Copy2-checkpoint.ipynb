{
 "cells": [
  {
   "cell_type": "code",
   "execution_count": 1,
   "id": "64d36fc3",
   "metadata": {},
   "outputs": [],
   "source": [
    "# log, forest, gradient boost, SVM, Naive Bayes\n",
    "\n",
    "# total list = Pclass, Name, Sex, Age, SibSp, Parch, Ticket, Fare, Cabin, Embarked\n",
    "# not dropped: Pclass, Name, Sex, Age, SibSp, Parch, Fare, Cabin, Embarked\n",
    "\n",
    "# 79.88826815642457, 79.3296089385475,  76.53631284916202, 78.77094972067039 (4,3,1,2)\n",
    "# 81.00558659217877, 78.77094972067039, 85.47486033519553, 85.47486033519553 (2,1,3,3)\n",
    "# 82.12290502793296, 77.09497206703911, 77.6536312849162,  80.44692737430168 (4,1,2,3)\n",
    "# 81.00558659217877, 81.56424581005587, 81.56424581005587, 81.56424581005587 (1,2,2,2)\n",
    "(11,7,8,8)"
   ]
  },
  {
   "cell_type": "code",
   "execution_count": 2,
   "id": "279a697a",
   "metadata": {},
   "outputs": [],
   "source": [
    "import pandas as pd\n",
    "import pandas\n",
    "from sklearn import preprocessing\n",
    "from sklearn.preprocessing import LabelEncoder\n",
    "from sklearn.model_selection import train_test_split\n",
    "from sklearn.metrics import accuracy_score\n",
    "# from sklearn.pipeline import Pipeline\n",
    "from sklearn.model_selection import GridSearchCV\n",
    "import numpy as np\n",
    "\n",
    "\n",
    "train_raw_data = pd.read_csv('train.csv')\n",
    "test_raw_data = pd.read_csv('test.csv')\n",
    "y_raw_test = pd.read_csv('gender_submission.csv')"
   ]
  },
  {
   "cell_type": "code",
   "execution_count": 3,
   "id": "d4cfbc77",
   "metadata": {},
   "outputs": [],
   "source": [
    "# my_pipeline func\n",
    "def my_pipeline(data, *args):\n",
    "    for func in args:\n",
    "        data = func(data)\n",
    "    return data"
   ]
  },
  {
   "cell_type": "code",
   "execution_count": 4,
   "id": "6affafb3",
   "metadata": {
    "scrolled": true
   },
   "outputs": [],
   "source": [
    "def clean(data):  \n",
    "    # s_count_in_embarked = 0\n",
    "    # c_count_in_embarked = 0\n",
    "    # nan_count = 0\n",
    "    _cabin_value_list = []\n",
    "    # cabin_index = 0\n",
    "    cols = [\"SibSp\", \"Parch\", \"Age\", \"Fare\", \"Cabin\"]\n",
    "    # dummies_cols = [\"Sex\", \"Embarked\"]\n",
    "    \n",
    "    # clean name\n",
    "    for i in range(len(data[\"Name\"])):\n",
    "        value = data[\"Name\"][i]\n",
    "        if \"Mr.\" in value: normalized_value = 0.0\n",
    "        elif \"Miss.\" in value: normalized_value = 1/16\n",
    "        elif \"Ms.\" in value: normalized_value = 2/16\n",
    "        elif \"Mrs.\" in value: normalized_value = 3/16\n",
    "        elif \"Don.\" in value or (\"Dona.\" in value): normalized_value = 4/16\n",
    "        elif \"Master.\" in value: normalized_value = 5/16\n",
    "        elif \"Col.\" in value: normalized_value = 6/16\n",
    "        elif \"Rev.\" in value: normalized_value = 7/16\n",
    "        elif \"Dr.\" in value: normalized_value = 8/16\n",
    "        elif \"Mme.\" in value: normalized_value = 9/16\n",
    "        elif \"Major.\" in value: normalized_value = 10/16\n",
    "        elif \"Lady.\" in value: normalized_value = 11/16\n",
    "        elif \"Sir.\" in value: normalized_value = 12/16\n",
    "        elif \"Mlle.\" in value: normalized_value = 13/16\n",
    "        elif \"Capt.\" in value: normalized_value = 14/16\n",
    "        elif \"Countess.\" in value: normalized_value = 15/16\n",
    "        elif \"Jonkheer.\" in value: normalized_value = 1.0\n",
    "        else: normalized_value = None\n",
    "        data.iat[i, data.columns.get_loc(\"Name\")] = normalized_value\n",
    "        \n",
    "    # clean age\n",
    "    for i in range(len(data[\"Age\"])):\n",
    "        value = data[\"Age\"][i]\n",
    "        if value <= 3: normalized_value = 0 # baby\n",
    "        elif (value > 3) and (value <= 12): normalized_value = 0.25 # child\n",
    "        elif (value > 12) and (value <= 20): normalized_value = 0.50 # teen\n",
    "        elif (value > 20) and (value <= 50): normalized_value = 0.75 # adult\n",
    "        elif (value > 50) and (value <= 85): normalized_value = 1.00 # old\n",
    "        else: normalized_value = None\n",
    "        data.iat[i, data.columns.get_loc(\"Age\")] = normalized_value\n",
    "    # cleaning cabin\n",
    "    for i in range(len(data[\"Cabin\"])):\n",
    "        value = str(data[\"Cabin\"][i]).lower()\n",
    "        if \"nan\" in value: normalized_value = None # for pre-made nan\n",
    "        elif \"a\" in value: normalized_value = 0.0\n",
    "        elif \"b\" in value: normalized_value = 1/6\n",
    "        elif \"c\" in value: normalized_value = 2/6\n",
    "        elif \"d\" in value: normalized_value = 3/6\n",
    "        elif \"e\" in value: normalized_value = 4/6\n",
    "        elif \"f\" in value: normalized_value = 5/6\n",
    "        elif \"g\" in value: normalized_value = 1.0\n",
    "        elif \"t\" in value: normalized_value = None # filter incorrect value in data\n",
    "        else: normalized_value = None \n",
    "        data.iat[i, data.columns.get_loc(\"Cabin\")] = normalized_value\n",
    "        \n",
    "    # drop col\n",
    "    data = data.drop([\"Ticket\", \"PassengerId\"], axis=1)\n",
    "    # fill na\n",
    "    for col in cols:\n",
    "        data[col].fillna(data[col].median(), inplace=True)\n",
    "    # get number labels w label encoder\n",
    "    label_encode_cols = [\"Sex\", \"Embarked\"]\n",
    "    for col in label_encode_cols:\n",
    "        data[col] = LabelEncoder().fit_transform(data[col])\n",
    "    # return\n",
    "    return data\n",
    "\n",
    "\n",
    "def scale(data):\n",
    "    scaler = preprocessing.MinMaxScaler()\n",
    "    scaler.fit(data)\n",
    "    data = scaler.transform(data)\n",
    "    data = pandas.DataFrame(data, columns=[\"Survived\", \"Pclass\", \"Name-Type\", \"Sex\", \"Age\", \"SibSp\", \"Parch\", \"Fare\",\"Cabin\", \"Embarked\"])\n",
    "    # data = pandas.core.api.DataFrame(data, columns=[\"Survived\", \"Pclass\", \"Name-Type\", \"Sex\", \"Age\", \"SibSp\", \"Parch\", \"Fare\",\"Cabin\", \"Embarked\"])\n",
    "    return data\n",
    "\n",
    "\n",
    "def my_split(data):\n",
    "    y = data[\"Survived\"]\n",
    "    X = data.drop(\"Survived\", axis=1)\n",
    "    train_X, test_X, train_y, test_y = train_test_split(X, y, test_size = 0.2, random_state=42)\n",
    "    return train_X, test_X, train_y, test_y\n",
    "\n",
    "def random_split(data):\n",
    "    y = data[\"Survived\"]\n",
    "    X = data.drop(\"Survived\", axis=1)\n",
    "    train_X, test_X, train_y, test_y = train_test_split(X, y, test_size = 0.2)\n",
    "    return train_X, test_X, train_y, test_y\n"
   ]
  },
  {
   "cell_type": "code",
   "execution_count": 5,
   "id": "cf16039d",
   "metadata": {},
   "outputs": [],
   "source": [
    "X_train, X_test, y_train, y_test = my_pipeline(train_raw_data, clean, scale, random_split)"
   ]
  },
  {
   "cell_type": "code",
   "execution_count": 6,
   "id": "783a6e52",
   "metadata": {
    "pycharm": {
     "is_executing": true
    }
   },
   "outputs": [
    {
     "name": "stdout",
     "output_type": "stream",
     "text": [
      "Fitting 6 folds for each of 1 candidates, totalling 6 fits\n",
      "81.00558659217877\n"
     ]
    }
   ],
   "source": [
    "# SVM\n",
    "from sklearn.svm import SVC\n",
    "parameters_svm = {\n",
    "# 'degree' : (7,8,9,10,11,12)\n",
    "}\n",
    "\n",
    "grid_SVM = GridSearchCV(SVC(kernel = 'poly', degree=10), parameters_svm, n_jobs = -1, verbose = 4, cv = 6)\n",
    "grid_SVM.fit(X_train,y_train)\n",
    "\n",
    "test_prediction = grid_SVM.predict(X_test)\n",
    "print(accuracy_score(test_prediction ,y_test)*100)"
   ]
  },
  {
   "cell_type": "code",
   "execution_count": 7,
   "id": "19a4d42c",
   "metadata": {},
   "outputs": [
    {
     "name": "stdout",
     "output_type": "stream",
     "text": [
      "Fitting 10 folds for each of 2 candidates, totalling 20 fits\n",
      "81.56424581005587\n"
     ]
    }
   ],
   "source": [
    "# KNN\n",
    "from sklearn.neighbors import KNeighborsClassifier\n",
    "parameters_knn = {'weights' : ('uniform', 'distance')}\n",
    "\n",
    "grid_knn = GridSearchCV(KNeighborsClassifier(n_neighbors = 4), parameters_knn, n_jobs = -1, verbose = 4, cv = 10)\n",
    "grid_knn.fit(X_train,y_train)\n",
    "\n",
    "test_prediction = grid_knn.predict(X_test)\n",
    "print(accuracy_score(test_prediction, y_test)*100)"
   ]
  },
  {
   "cell_type": "code",
   "execution_count": 8,
   "id": "d5a80b3c",
   "metadata": {
    "scrolled": false
   },
   "outputs": [
    {
     "name": "stdout",
     "output_type": "stream",
     "text": [
      "Fitting 10 folds for each of 30 candidates, totalling 300 fits\n",
      "81.00558659217877\n"
     ]
    }
   ],
   "source": [
    "# Adaboost boosting ensemble...\n",
    "from sklearn.ensemble import AdaBoostClassifier\n",
    "parameters_adaboosting = {'learning_rate' : (np.linspace(1, 2, 30))}\n",
    "\n",
    "grid_adaboost = GridSearchCV(AdaBoostClassifier(n_estimators=55), parameters_adaboosting, n_jobs = -1, verbose = 4, cv = 10)\n",
    "grid_adaboost.fit(X_train,y_train)\n",
    "\n",
    "test_prediction = grid_adaboost.predict(X_test)\n",
    "print(accuracy_score(test_prediction, y_test)*100)\n",
    "\n",
    "\n",
    "# 81.00558659217877 # n = (50 - 75)\n",
    "# 82.68156424581005 # learn-rate = 0.1,1,10\n",
    "# 82.12290502793296 # learn-rate = 1,2,10\n",
    "# 81.56424581005587 # n = 50-150; learn_rate = 0.01,1,100\n",
    "\n",
    "# 82.68156424581005 Final\n"
   ]
  },
  {
   "cell_type": "code",
   "execution_count": 9,
   "id": "3045a5c6",
   "metadata": {},
   "outputs": [
    {
     "name": "stdout",
     "output_type": "stream",
     "text": [
      "Fitting 10 folds for each of 1 candidates, totalling 10 fits\n",
      "81.56424581005587\n"
     ]
    }
   ],
   "source": [
    "# Gradient Boosting \n",
    "from sklearn.ensemble import GradientBoostingClassifier\n",
    "parameters_gradient_boosting = {\n",
    "\n",
    "}\n",
    "\n",
    "grid_gradient_boost = GridSearchCV(GradientBoostingClassifier(), parameters_gradient_boosting, n_jobs = -1, verbose = 4, cv = 10)\n",
    "grid_gradient_boost.fit(X_train,y_train)\n",
    "\n",
    "test_prediction = grid_gradient_boost.predict(X_test)\n",
    "print(accuracy_score(test_prediction, y_test)*100)"
   ]
  },
  {
   "cell_type": "code",
   "execution_count": 10,
   "id": "5a26cb71",
   "metadata": {
    "pycharm": {
     "name": "#%%\n"
    }
   },
   "outputs": [],
   "source": [
    "parameters_gradient_boosting = {\n",
    "    'learning_rate' : (np.linspace(0.1, 1, 15)),\n",
    "    'min_samples_split': np.linspace(0.1, 0.5, 12),\n",
    "    'min_sample_leaf' : np.linspace(0.1, 0.5, 12),\n",
    "    'max_depth' : (3,5,8),\n",
    "    'max_features' : ('log2', 'sqrt'),\n",
    "    'criterion' : ('friedman_mse', 'mae'),\n",
    "    'subsample' : (0.5, 0.618, 0.8, 0.85, 0.9, 0.95, 1.0)\n",
    "}"
   ]
  }
 ],
 "metadata": {
  "kernelspec": {
   "display_name": "Python 3 (ipykernel)",
   "language": "python",
   "name": "python3"
  },
  "language_info": {
   "codemirror_mode": {
    "name": "ipython",
    "version": 3
   },
   "file_extension": ".py",
   "mimetype": "text/x-python",
   "name": "python",
   "nbconvert_exporter": "python",
   "pygments_lexer": "ipython3",
   "version": "3.9.1"
  }
 },
 "nbformat": 4,
 "nbformat_minor": 5
}
